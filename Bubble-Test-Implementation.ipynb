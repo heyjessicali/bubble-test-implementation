{
 "cells": [
  {
   "cell_type": "code",
   "execution_count": 1,
   "metadata": {
    "executionInfo": {
     "elapsed": 42293,
     "status": "ok",
     "timestamp": 1670463557838,
     "user": {
      "displayName": "Jessica Li",
      "userId": "07751612244557950653"
     },
     "user_tz": 300
    },
    "id": "bk_4GenmitKf"
   },
   "outputs": [],
   "source": [
    "%%capture\n",
    "!pip install numpy\n",
    "!pip install pandas\n",
    "!pip install requests\n",
    "!pip install pandas_datareader\n",
    "!pip install yfinance\n",
    "!pip install math\n",
    "!pip install statsmodels"
   ]
  },
  {
   "cell_type": "code",
   "execution_count": 2,
   "metadata": {
    "executionInfo": {
     "elapsed": 2399,
     "status": "ok",
     "timestamp": 1670463560217,
     "user": {
      "displayName": "Jessica Li",
      "userId": "07751612244557950653"
     },
     "user_tz": 300
    },
    "id": "gdw4eXB4OuuS"
   },
   "outputs": [],
   "source": [
    "import numpy as np\n",
    "import pandas as pd\n",
    "import requests\n",
    "import matplotlib.pyplot as plt\n",
    "import statsmodels.api as sm\n",
    "\n",
    "# package to download data, from pandas \n",
    "import pandas_datareader as web\n",
    "\n",
    "# packages to work with time and dates\n",
    "\n",
    "import datetime as dt\n",
    "import matplotlib.dates as mdates\n",
    "import math\n",
    "\n",
    "import warnings\n",
    "warnings.simplefilter(action='ignore', category=FutureWarning)"
   ]
  },
  {
   "cell_type": "markdown",
   "metadata": {
    "id": "c2Kg6TA2iWac"
   },
   "source": [
    "# Attempting to replicate the paper results (2019-01-01 to 2019-07-17)"
   ]
  },
  {
   "cell_type": "code",
   "execution_count": 3,
   "metadata": {
    "colab": {
     "base_uri": "https://localhost:8080/"
    },
    "executionInfo": {
     "elapsed": 582,
     "status": "ok",
     "timestamp": 1670463581091,
     "user": {
      "displayName": "Jessica Li",
      "userId": "07751612244557950653"
     },
     "user_tz": 300
    },
    "id": "HktG5AMqPRY0",
    "outputId": "0ab8e8e9-aff8-40e7-96f6-6e082d22120d"
   },
   "outputs": [
    {
     "data": {
      "text/plain": [
       "[3843.52002,\n",
       " 3943.409424,\n",
       " 3836.741211,\n",
       " 3857.717529,\n",
       " 3845.19458,\n",
       " 4076.632568,\n",
       " 4025.248291,\n",
       " 4030.8479,\n",
       " 4035.296387,\n",
       " 3678.924561,\n",
       " 3687.365479,\n",
       " 3661.301025,\n",
       " 3552.953125,\n",
       " 3706.052246,\n",
       " 3630.675293,\n",
       " 3655.006836,\n",
       " 3678.563965,\n",
       " 3657.839355,\n",
       " 3728.568359,\n",
       " 3601.013672,\n",
       " 3576.032471,\n",
       " 3604.577148,\n",
       " 3585.123047,\n",
       " 3600.865479,\n",
       " 3599.765869,\n",
       " 3602.460449,\n",
       " 3583.96582,\n",
       " 3470.450439,\n",
       " 3448.116943,\n",
       " 3486.181641,\n",
       " 3457.792725,\n",
       " 3487.945313,\n",
       " 3521.060791,\n",
       " 3464.013428,\n",
       " 3459.154053,\n",
       " 3466.357422,\n",
       " 3413.767822,\n",
       " 3399.47168,\n",
       " 3666.780273,\n",
       " 3671.203613,\n",
       " 3690.188232,\n",
       " 3648.430664,\n",
       " 3653.528564,\n",
       " 3632.070557,\n",
       " 3616.880859,\n",
       " 3620.810791,\n",
       " 3629.787598,\n",
       " 3673.836182,\n",
       " 3915.714355,\n",
       " 3947.094482,\n",
       " 3999.820557,\n",
       " 3954.118164,\n",
       " 4005.526611,\n",
       " 4142.526855,\n",
       " 3810.42749,\n",
       " 3882.696289,\n",
       " 3854.35791,\n",
       " 3851.047363,\n",
       " 3854.7854,\n",
       " 3859.58374,\n",
       " 3864.415039,\n",
       " 3847.175781,\n",
       " 3761.557129,\n",
       " 3896.375,\n",
       " 3903.942627,\n",
       " 3911.484375,\n",
       " 3901.131592,\n",
       " 3963.313721,\n",
       " 3951.599854,\n",
       " 3905.227295,\n",
       " 3909.15625,\n",
       " 3906.717285,\n",
       " 3924.369141,\n",
       " 3960.911133,\n",
       " 4048.72583,\n",
       " 4025.229004,\n",
       " 4032.507324,\n",
       " 4071.190186,\n",
       " 4087.476318,\n",
       " 4029.326904,\n",
       " 4023.968262,\n",
       " 4035.826416,\n",
       " 4022.168213,\n",
       " 3963.070557,\n",
       " 3985.080811,\n",
       " 4087.066162,\n",
       " 4069.107178,\n",
       " 4098.374512,\n",
       " 4106.660156,\n",
       " 4105.404297,\n",
       " 4158.183105,\n",
       " 4879.87793,\n",
       " 4973.021973,\n",
       " 4922.798828,\n",
       " 5036.681152,\n",
       " 5059.817383,\n",
       " 5198.896973,\n",
       " 5289.770996,\n",
       " 5204.958496,\n",
       " 5324.551758,\n",
       " 5064.487793,\n",
       " 5089.539063,\n",
       " 5096.586426,\n",
       " 5167.722168,\n",
       " 5067.108398,\n",
       " 5235.55957,\n",
       " 5251.937988,\n",
       " 5298.385742,\n",
       " 5303.8125,\n",
       " 5337.88623,\n",
       " 5314.53125,\n",
       " 5399.365234,\n",
       " 5572.362305,\n",
       " 5464.866699,\n",
       " 5210.515625,\n",
       " 5279.348145,\n",
       " 5268.291016,\n",
       " 5285.13916,\n",
       " 5247.352539,\n",
       " 5350.726563,\n",
       " 5402.697266,\n",
       " 5505.283691,\n",
       " 5768.289551,\n",
       " 5831.16748,\n",
       " 5795.708496,\n",
       " 5746.807129,\n",
       " 5829.501465,\n",
       " 5982.45752,\n",
       " 6174.528809,\n",
       " 6378.849121,\n",
       " 7204.771484,\n",
       " 6972.371582,\n",
       " 7814.915039,\n",
       " 7994.416016,\n",
       " 8205.167969,\n",
       " 7884.90918,\n",
       " 7343.895508,\n",
       " 7271.208008,\n",
       " 8197.689453,\n",
       " 7978.309082,\n",
       " 7963.327637,\n",
       " 7680.066406,\n",
       " 7881.84668,\n",
       " 7987.371582,\n",
       " 8052.543945,\n",
       " 8673.21582,\n",
       " 8805.77832,\n",
       " 8719.961914,\n",
       " 8659.487305,\n",
       " 8319.472656,\n",
       " 8574.501953,\n",
       " 8564.016602,\n",
       " 8742.958008,\n",
       " 8208.995117,\n",
       " 7707.770996,\n",
       " 7824.231445,\n",
       " 7822.023438,\n",
       " 8043.951172,\n",
       " 7954.12793,\n",
       " 7688.077148,\n",
       " 8000.32959,\n",
       " 7927.714355,\n",
       " 8145.857422,\n",
       " 8230.923828,\n",
       " 8693.833008,\n",
       " 8838.375,\n",
       " 8994.488281,\n",
       " 9320.352539,\n",
       " 9081.762695,\n",
       " 9273.521484,\n",
       " 9527.160156,\n",
       " 10144.556641,\n",
       " 10701.691406,\n",
       " 10855.371094,\n",
       " 11011.102539,\n",
       " 11790.916992,\n",
       " 13016.231445,\n",
       " 11182.806641,\n",
       " 12407.332031,\n",
       " 11959.371094,\n",
       " 10817.155273,\n",
       " 10583.134766,\n",
       " 10801.677734,\n",
       " 11961.269531,\n",
       " 11215.4375,\n",
       " 10978.459961,\n",
       " 11208.550781,\n",
       " 11450.84668,\n",
       " 12285.958008,\n",
       " 12573.8125,\n",
       " 12156.512695,\n",
       " 11358.662109,\n",
       " 11815.986328,\n",
       " 11392.378906,\n",
       " 10256.058594,\n",
       " 10895.089844,\n",
       " 9477.641602,\n",
       " 9693.802734]"
      ]
     },
     "execution_count": 3,
     "metadata": {},
     "output_type": "execute_result"
    }
   ],
   "source": [
    "start = pd.to_datetime(['2019-01-01']).astype(int)[0]//10**9 # convert to unix timestamp.\n",
    "end = pd.to_datetime(['2019-07-17']).astype(int)[0]//10**9 # convert to unix timestamp.\n",
    "url = 'https://query1.finance.yahoo.com/v7/finance/download/' + 'BTC-USD' + '?period1=' + str(start) + '&period2=' + str(end) + '&interval=1d&events=history'\n",
    "df = pd.read_csv(url)\n",
    "\n",
    "S=df.Close.tolist()\n",
    "S"
   ]
  },
  {
   "cell_type": "code",
   "execution_count": 4,
   "metadata": {
    "colab": {
     "base_uri": "https://localhost:8080/",
     "height": 265
    },
    "executionInfo": {
     "elapsed": 377,
     "status": "ok",
     "timestamp": 1670463590038,
     "user": {
      "displayName": "Jessica Li",
      "userId": "07751612244557950653"
     },
     "user_tz": 300
    },
    "id": "_XlBfMX8q8QO",
    "outputId": "fbdb1c94-8682-4ffe-cf4b-c5f29906ff3c"
   },
   "outputs": [
    {
     "data": {
      "image/png": "[encoded data removed]",
      "text/plain": [
       "<Figure size 432x288 with 1 Axes>"
      ]
     },
     "metadata": {
      "needs_background": "light"
     },
     "output_type": "display_data"
    }
   ],
   "source": [
    "plt.plot(pd.to_datetime(df.Date), df.Close)\n",
    "\n",
    "plt.show()"
   ]
  },
  {
   "cell_type": "code",
   "execution_count": 5,
   "metadata": {
    "colab": {
     "base_uri": "https://localhost:8080/"
    },
    "executionInfo": {
     "elapsed": 151,
     "status": "ok",
     "timestamp": 1670463591825,
     "user": {
      "displayName": "Jessica Li",
      "userId": "07751612244557950653"
     },
     "user_tz": 300
    },
    "id": "nZ3NEnN-iWaj",
    "outputId": "cc2ef5bb-3fb5-4193-eed8-d93d4483a33c"
   },
   "outputs": [
    {
     "data": {
      "text/plain": [
       "count      198.000000\n",
       "mean      6042.811293\n",
       "std       2706.394802\n",
       "min       3399.471680\n",
       "25%       3860.791565\n",
       "50%       5093.062745\n",
       "75%       7998.851196\n",
       "max      13016.231445\n",
       "Name: Close, dtype: float64"
      ]
     },
     "execution_count": 5,
     "metadata": {},
     "output_type": "execute_result"
    }
   ],
   "source": [
    "df.Close.describe()"
   ]
  },
  {
   "cell_type": "code",
   "execution_count": 6,
   "metadata": {
    "colab": {
     "base_uri": "https://localhost:8080/"
    },
    "executionInfo": {
     "elapsed": 138,
     "status": "ok",
     "timestamp": 1670463593302,
     "user": {
      "displayName": "Jessica Li",
      "userId": "07751612244557950653"
     },
     "user_tz": 300
    },
    "id": "e7LUN_8ErILq",
    "outputId": "c7b53fdf-ccd5-4133-830e-25ac791ab054"
   },
   "outputs": [
    {
     "name": "stdout",
     "output_type": "stream",
     "text": [
      "16\n"
     ]
    },
    {
     "data": {
      "text/plain": [
       "[3300,\n",
       " 3600,\n",
       " 3900,\n",
       " 4200,\n",
       " 4500,\n",
       " 4800,\n",
       " 5100,\n",
       " 5400,\n",
       " 5700,\n",
       " 6000,\n",
       " 6300,\n",
       " 6600,\n",
       " 6900,\n",
       " 7200,\n",
       " 7500,\n",
       " 7800]"
      ]
     },
     "execution_count": 6,
     "metadata": {},
     "output_type": "execute_result"
    }
   ],
   "source": [
    "X = list(range(3300, 8000, 300))\n",
    "print(len(X))\n",
    "X"
   ]
  },
  {
   "cell_type": "code",
   "execution_count": 7,
   "metadata": {
    "executionInfo": {
     "elapsed": 141,
     "status": "ok",
     "timestamp": 1670463594724,
     "user": {
      "displayName": "Jessica Li",
      "userId": "07751612244557950653"
     },
     "user_tz": 300
    },
    "id": "z9XiAQO_Rb15"
   },
   "outputs": [],
   "source": [
    "def volatilityEstimator(X): # X is a list of price samples\n",
    "    h = 500\n",
    "    numerator = 0\n",
    "    sigma = []\n",
    "    counter = 0\n",
    "    n = len(S)\n",
    "    \n",
    "    for x in X: \n",
    "        for i in range(len(S)-1):\n",
    "            if((abs(S[i] - x)) < (h)):\n",
    "                numerator += n*((S[i+1]-S[i])**2)\n",
    "                counter +=1\n",
    "        if (numerator != 0):\n",
    "            sigma.append(np.sqrt(numerator/counter))\n",
    "        if (numerator == 0):\n",
    "            sigma.append(np.nan)\n",
    "        numerator = 0\n",
    "        counter = 0\n",
    "    return sigma"
   ]
  },
  {
   "cell_type": "code",
   "execution_count": 8,
   "metadata": {
    "colab": {
     "base_uri": "https://localhost:8080/",
     "height": 280
    },
    "executionInfo": {
     "elapsed": 508,
     "status": "ok",
     "timestamp": 1670463597174,
     "user": {
      "displayName": "Jessica Li",
      "userId": "07751612244557950653"
     },
     "user_tz": 300
    },
    "id": "tg7H3iBULA-A",
    "outputId": "c5b188d2-9395-4448-846c-6de6fbe24e8f"
   },
   "outputs": [
    {
     "data": {
      "image/png": "[encoded data removed]",
      "text/plain": [
       "<Figure size 432x288 with 1 Axes>"
      ]
     },
     "metadata": {
      "needs_background": "light"
     },
     "output_type": "display_data"
    }
   ],
   "source": [
    "fig,ax = plt.subplots(1)\n",
    "\n",
    "# plot the data\n",
    "ax.scatter(X, volatilityEstimator(X))\n",
    "ax.set_xlabel(\"Price\")\n",
    "ax.set_ylabel(\"Estimated Volatility\")\n",
    "\n",
    "plt.show()"
   ]
  },
  {
   "cell_type": "code",
   "execution_count": 9,
   "metadata": {
    "executionInfo": {
     "elapsed": 154,
     "status": "ok",
     "timestamp": 1670463598965,
     "user": {
      "displayName": "Jessica Li",
      "userId": "07751612244557950653"
     },
     "user_tz": 300
    },
    "id": "9j5q9ugbxNaa"
   },
   "outputs": [],
   "source": [
    "pairs = [(X[i], volatilityEstimator(X)[i]) for i in range(len(X))]"
   ]
  },
  {
   "cell_type": "code",
   "execution_count": 10,
   "metadata": {
    "executionInfo": {
     "elapsed": 193,
     "status": "ok",
     "timestamp": 1670463600365,
     "user": {
      "displayName": "Jessica Li",
      "userId": "07751612244557950653"
     },
     "user_tz": 300
    },
    "id": "icPW7CHixQni"
   },
   "outputs": [],
   "source": [
    "def theta(i, j): # i and j are indicies of the `pairs` list\n",
    "    sigdiff = (pairs[i][1] - pairs[j][1])\n",
    "    sdiff = (pairs[i][0] - pairs[j][0])\n",
    "    return math.degrees(math.atan(sigdiff/sdiff))\n",
    "\n",
    "# lower convex hull\n",
    "i = 0\n",
    "lch = [pairs[i]]\n",
    "while (i < len(X) -1):\n",
    "    angles = {x:theta(x, i) for x in range(len(pairs)) if x>i}\n",
    "    i = min(angles, key=angles.get)\n",
    "    lch.append(pairs[i])\n",
    "\n",
    "# upper convex hull\n",
    "i = 0\n",
    "uch = [pairs[i]]\n",
    "while (i < len(X) -1):\n",
    "    angles = {x:theta(x, i) for x in range(len(pairs)) if x>i}\n",
    "    i = max(angles, key=angles.get)\n",
    "    uch.append(pairs[i])"
   ]
  },
  {
   "cell_type": "code",
   "execution_count": 11,
   "metadata": {
    "executionInfo": {
     "elapsed": 18,
     "status": "ok",
     "timestamp": 1670463601780,
     "user": {
      "displayName": "Jessica Li",
      "userId": "07751612244557950653"
     },
     "user_tz": 300
    },
    "id": "lpzUPVRs0AXG"
   },
   "outputs": [],
   "source": [
    "# interpolate the convex hulls (linear interpolation)\n",
    "lch_interpolated = pd.Series({x[0]: x[1] for x in lch}, index=X, name='lch').interpolate()\n",
    "uch_interpolated = pd.Series({x[0]: x[1] for x in uch}, index=X, name='uch').interpolate()"
   ]
  },
  {
   "cell_type": "code",
   "execution_count": 12,
   "metadata": {
    "colab": {
     "base_uri": "https://localhost:8080/",
     "height": 280
    },
    "executionInfo": {
     "elapsed": 218,
     "status": "ok",
     "timestamp": 1670463604049,
     "user": {
      "displayName": "Jessica Li",
      "userId": "07751612244557950653"
     },
     "user_tz": 300
    },
    "id": "nuio9qRHiWal",
    "outputId": "a8eb065e-f7f4-475f-bab3-edaafc2c71c6"
   },
   "outputs": [
    {
     "data": {
      "image/png": "[encoded data removed]",
      "text/plain": [
       "<Figure size 432x288 with 1 Axes>"
      ]
     },
     "metadata": {
      "needs_background": "light"
     },
     "output_type": "display_data"
    }
   ],
   "source": [
    "fig,ax = plt.subplots(1)\n",
    "\n",
    "# convex hulls\n",
    "ax.plot([x[0] for x in lch], [x[1] for x in lch], color = 'green')\n",
    "ax.plot([x[0] for x in uch], [x[1] for x in uch], color = 'red')\n",
    "\n",
    "# interpolated points\n",
    "ax.scatter(X, lch_interpolated, color='pink')\n",
    "ax.scatter(X, uch_interpolated, color='orange')\n",
    "\n",
    "# point estimates \n",
    "ax.scatter(X, volatilityEstimator(X))\n",
    "\n",
    "ax.set_xlabel(\"Price\")\n",
    "ax.set_ylabel(\"Estimated Volatility\")\n",
    "\n",
    "plt.show()"
   ]
  },
  {
   "cell_type": "code",
   "execution_count": 13,
   "metadata": {
    "colab": {
     "base_uri": "https://localhost:8080/",
     "height": 204
    },
    "executionInfo": {
     "elapsed": 139,
     "status": "ok",
     "timestamp": 1670463606075,
     "user": {
      "displayName": "Jessica Li",
      "userId": "07751612244557950653"
     },
     "user_tz": 300
    },
    "id": "CptqTEffiWam",
    "outputId": "fd087da2-770f-465b-a75a-f9530420fde8",
    "scrolled": true
   },
   "outputs": [
    {
     "data": {
      "text/html": [
       "<div>\n",
       "<style scoped>\n",
       "    .dataframe tbody tr th:only-of-type {\n",
       "        vertical-align: middle;\n",
       "    }\n",
       "\n",
       "    .dataframe tbody tr th {\n",
       "        vertical-align: top;\n",
       "    }\n",
       "\n",
       "    .dataframe thead th {\n",
       "        text-align: right;\n",
       "    }\n",
       "</style>\n",
       "<table border=\"1\" class=\"dataframe\">\n",
       "  <thead>\n",
       "    <tr style=\"text-align: right;\">\n",
       "      <th></th>\n",
       "      <th>price</th>\n",
       "      <th>lch</th>\n",
       "      <th>uch</th>\n",
       "      <th>log_lch</th>\n",
       "      <th>log_uch</th>\n",
       "      <th>log_price</th>\n",
       "    </tr>\n",
       "  </thead>\n",
       "  <tbody>\n",
       "    <tr>\n",
       "      <th>0</th>\n",
       "      <td>3300</td>\n",
       "      <td>1098.623172</td>\n",
       "      <td>1098.623172</td>\n",
       "      <td>7.001813</td>\n",
       "      <td>7.001813</td>\n",
       "      <td>8.101678</td>\n",
       "    </tr>\n",
       "    <tr>\n",
       "      <th>1</th>\n",
       "      <td>3600</td>\n",
       "      <td>1095.698654</td>\n",
       "      <td>1883.089083</td>\n",
       "      <td>6.999147</td>\n",
       "      <td>7.540669</td>\n",
       "      <td>8.188689</td>\n",
       "    </tr>\n",
       "    <tr>\n",
       "      <th>2</th>\n",
       "      <td>3900</td>\n",
       "      <td>1106.683841</td>\n",
       "      <td>2667.554995</td>\n",
       "      <td>7.009123</td>\n",
       "      <td>7.888918</td>\n",
       "      <td>8.268732</td>\n",
       "    </tr>\n",
       "    <tr>\n",
       "      <th>3</th>\n",
       "      <td>4200</td>\n",
       "      <td>1117.669027</td>\n",
       "      <td>3452.020907</td>\n",
       "      <td>7.019001</td>\n",
       "      <td>8.146715</td>\n",
       "      <td>8.342840</td>\n",
       "    </tr>\n",
       "    <tr>\n",
       "      <th>4</th>\n",
       "      <td>4500</td>\n",
       "      <td>1128.654213</td>\n",
       "      <td>4236.486819</td>\n",
       "      <td>7.028781</td>\n",
       "      <td>8.351490</td>\n",
       "      <td>8.411833</td>\n",
       "    </tr>\n",
       "  </tbody>\n",
       "</table>\n",
       "</div>"
      ],
      "text/plain": [
       "   price          lch          uch   log_lch   log_uch  log_price\n",
       "0   3300  1098.623172  1098.623172  7.001813  7.001813   8.101678\n",
       "1   3600  1095.698654  1883.089083  6.999147  7.540669   8.188689\n",
       "2   3900  1106.683841  2667.554995  7.009123  7.888918   8.268732\n",
       "3   4200  1117.669027  3452.020907  7.019001  8.146715   8.342840\n",
       "4   4500  1128.654213  4236.486819  7.028781  8.351490   8.411833"
      ]
     },
     "execution_count": 13,
     "metadata": {},
     "output_type": "execute_result"
    }
   ],
   "source": [
    "# transform variables for OLS\n",
    "hull = pd.concat([lch_interpolated, uch_interpolated], axis=1).reset_index().rename(columns={'index': 'price'})\n",
    "hull['log_lch'] = np.log(hull.lch)\n",
    "hull['log_uch'] = np.log(hull.uch)\n",
    "hull['log_price'] = np.log(hull.price)\n",
    "hull.head()"
   ]
  },
  {
   "cell_type": "code",
   "execution_count": 14,
   "metadata": {
    "colab": {
     "base_uri": "https://localhost:8080/"
    },
    "executionInfo": {
     "elapsed": 151,
     "status": "ok",
     "timestamp": 1670463607786,
     "user": {
      "displayName": "Jessica Li",
      "userId": "07751612244557950653"
     },
     "user_tz": 300
    },
    "id": "kZc7Chsk0DZK",
    "outputId": "8b68d2cd-80e6-4f77-bc97-54ec7807e36e"
   },
   "outputs": [
    {
     "name": "stdout",
     "output_type": "stream",
     "text": [
      "Test ends. There is a bubble.\n"
     ]
    }
   ],
   "source": [
    "# Hypothesis testing\n",
    "\n",
    "#upper bound on integral\n",
    "Y1 = hull.log_lch\n",
    "X1 = hull.log_price\n",
    "X1 = sm.add_constant(X1)\n",
    "model1 = sm.OLS(Y1,X1)\n",
    "\n",
    "results1 = model1.fit()\n",
    "\n",
    "if (results1.params['log_price'] > 1 + 1.645*results1.bse['log_price']):\n",
    "    # reject the null hypothesis of \"No bubble\"\n",
    "    print(\"Test ends. There is a bubble.\")\n",
    "else: \n",
    "    print(\"Upper bound inconclusive--testing lower bound.\")\n",
    "    #lower bound on integral\n",
    "    Y2 = hull.log_uch\n",
    "    X2 = hull.log_price\n",
    "    X2 = sm.add_constant(X2)\n",
    "    model2 = sm.OLS(Y2,X2)\n",
    "\n",
    "    results2 = model2.fit()\n",
    "    \n",
    "    if (results2.params['log_price'] <= 1 - 1.645*results2.bse['log_price']):\n",
    "        # reject the null hypothesis of \"There is a bubble\"\n",
    "        print(\"Test ends. There is no bubble.\")\n",
    "    else: \n",
    "        print(\"Test inconclusive.\")"
   ]
  },
  {
   "cell_type": "markdown",
   "metadata": {
    "id": "DTQ-Oe2diWan"
   },
   "source": [
    "---\n",
    "\n",
    "# 2021-07-18 to 2022-01-28"
   ]
  },
  {
   "cell_type": "code",
   "execution_count": 15,
   "metadata": {
    "executionInfo": {
     "elapsed": 144,
     "status": "ok",
     "timestamp": 1670463611618,
     "user": {
      "displayName": "Jessica Li",
      "userId": "07751612244557950653"
     },
     "user_tz": 300
    },
    "id": "ACfX95Q5iWan"
   },
   "outputs": [],
   "source": [
    "start = pd.to_datetime(['2021-07-18']).astype(int)[0]//10**9 # convert to unix timestamp.\n",
    "end = pd.to_datetime(['2022-01-28']).astype(int)[0]//10**9 # convert to unix timestamp.\n",
    "url = 'https://query1.finance.yahoo.com/v7/finance/download/' + 'BTC-USD' + '?period1=' + str(start) + '&period2=' + str(end) + '&interval=1d&events=history'\n",
    "df = pd.read_csv(url)\n",
    "\n",
    "S=df.Close.tolist()"
   ]
  },
  {
   "cell_type": "code",
   "execution_count": 16,
   "metadata": {
    "colab": {
     "base_uri": "https://localhost:8080/",
     "height": 265
    },
    "executionInfo": {
     "elapsed": 189,
     "status": "ok",
     "timestamp": 1670463611927,
     "user": {
      "displayName": "Jessica Li",
      "userId": "07751612244557950653"
     },
     "user_tz": 300
    },
    "id": "xO0jQXDniWan",
    "outputId": "49e47ee6-8b08-44b0-8bb2-26d5e26597ab"
   },
   "outputs": [
    {
     "data": {
      "image/png": "[encoded data removed]",
      "text/plain": [
       "<Figure size 432x288 with 1 Axes>"
      ]
     },
     "metadata": {
      "needs_background": "light"
     },
     "output_type": "display_data"
    }
   ],
   "source": [
    "plt.plot(pd.to_datetime(df.Date), df.Close)\n",
    "\n",
    "plt.show()"
   ]
  },
  {
   "cell_type": "code",
   "execution_count": 17,
   "metadata": {
    "colab": {
     "base_uri": "https://localhost:8080/"
    },
    "executionInfo": {
     "elapsed": 18,
     "status": "ok",
     "timestamp": 1670463612380,
     "user": {
      "displayName": "Jessica Li",
      "userId": "07751612244557950653"
     },
     "user_tz": 300
    },
    "id": "MRr83JGniWao",
    "outputId": "5d951593-4174-41a7-ff24-786208044f74"
   },
   "outputs": [
    {
     "name": "stdout",
     "output_type": "stream",
     "text": [
      "17\n"
     ]
    },
    {
     "data": {
      "text/plain": [
       "[32000,\n",
       " 34000,\n",
       " 36000,\n",
       " 38000,\n",
       " 40000,\n",
       " 42000,\n",
       " 44000,\n",
       " 46000,\n",
       " 48000,\n",
       " 50000,\n",
       " 52000,\n",
       " 54000,\n",
       " 56000,\n",
       " 58000,\n",
       " 60000,\n",
       " 62000,\n",
       " 64000]"
      ]
     },
     "execution_count": 17,
     "metadata": {},
     "output_type": "execute_result"
    }
   ],
   "source": [
    "X = list(range(32000, 66000, 2000))\n",
    "print(len(X))\n",
    "X"
   ]
  },
  {
   "cell_type": "code",
   "execution_count": 18,
   "metadata": {
    "colab": {
     "base_uri": "https://localhost:8080/",
     "height": 281
    },
    "executionInfo": {
     "elapsed": 403,
     "status": "ok",
     "timestamp": 1670463613440,
     "user": {
      "displayName": "Jessica Li",
      "userId": "07751612244557950653"
     },
     "user_tz": 300
    },
    "id": "eeKsIN__iWao",
    "outputId": "447c4ad3-b6e3-42ae-9e8c-b992ab441d5b"
   },
   "outputs": [
    {
     "data": {
      "image/png": "[encoded data removed]",
      "text/plain": [
       "<Figure size 432x288 with 1 Axes>"
      ]
     },
     "metadata": {
      "needs_background": "light"
     },
     "output_type": "display_data"
    }
   ],
   "source": [
    "fig,ax = plt.subplots(1)\n",
    "\n",
    "# plot the data\n",
    "ax.scatter(X, volatilityEstimator(X))\n",
    "ax.set_xlabel(\"Price\")\n",
    "ax.set_ylabel(\"Estimated Volatility\")\n",
    "plt.show()"
   ]
  },
  {
   "cell_type": "code",
   "execution_count": 19,
   "metadata": {
    "executionInfo": {
     "elapsed": 3,
     "status": "ok",
     "timestamp": 1670463613871,
     "user": {
      "displayName": "Jessica Li",
      "userId": "07751612244557950653"
     },
     "user_tz": 300
    },
    "id": "RxbD790jiWao"
   },
   "outputs": [],
   "source": [
    "pairs = [(X[i], volatilityEstimator(X)[i]) for i in range(len(X))]"
   ]
  },
  {
   "cell_type": "code",
   "execution_count": 20,
   "metadata": {
    "executionInfo": {
     "elapsed": 174,
     "status": "ok",
     "timestamp": 1670463614213,
     "user": {
      "displayName": "Jessica Li",
      "userId": "07751612244557950653"
     },
     "user_tz": 300
    },
    "id": "EYELuyftiWao"
   },
   "outputs": [],
   "source": [
    "# lower convex hull\n",
    "i = 0\n",
    "lch = [pairs[i]]\n",
    "while (i < len(X) -1):\n",
    "    angles = {x:theta(x, i) for x in range(len(pairs)) if x>i}\n",
    "    i = min(angles, key=angles.get)\n",
    "    lch.append(pairs[i])\n",
    "\n",
    "# upper convex hull\n",
    "i = 0\n",
    "uch = [pairs[i]]\n",
    "while (i < len(X) -1):\n",
    "    angles = {x:theta(x, i) for x in range(len(pairs)) if x>i}\n",
    "    i = max(angles, key=angles.get)\n",
    "    uch.append(pairs[i])"
   ]
  },
  {
   "cell_type": "code",
   "execution_count": 21,
   "metadata": {
    "executionInfo": {
     "elapsed": 7,
     "status": "ok",
     "timestamp": 1670463614486,
     "user": {
      "displayName": "Jessica Li",
      "userId": "07751612244557950653"
     },
     "user_tz": 300
    },
    "id": "QbpVaHbAiWap"
   },
   "outputs": [],
   "source": [
    "# interpolate the convex hulls (linear interpolation)\n",
    "lch_interpolated = pd.Series({x[0]: x[1] for x in lch}, index=X, name='lch').interpolate()\n",
    "uch_interpolated = pd.Series({x[0]: x[1] for x in uch}, index=X, name='uch').interpolate()"
   ]
  },
  {
   "cell_type": "code",
   "execution_count": 22,
   "metadata": {
    "colab": {
     "base_uri": "https://localhost:8080/",
     "height": 281
    },
    "executionInfo": {
     "elapsed": 355,
     "status": "ok",
     "timestamp": 1670463614834,
     "user": {
      "displayName": "Jessica Li",
      "userId": "07751612244557950653"
     },
     "user_tz": 300
    },
    "id": "puq3AKXQiWap",
    "outputId": "6540973e-8f45-413d-e701-dd23529f4354"
   },
   "outputs": [
    {
     "data": {
      "image/png": "[encoded data removed]",
      "text/plain": [
       "<Figure size 432x288 with 1 Axes>"
      ]
     },
     "metadata": {
      "needs_background": "light"
     },
     "output_type": "display_data"
    }
   ],
   "source": [
    "fig,ax = plt.subplots(1)\n",
    "\n",
    "# convex hulls\n",
    "ax.plot([x[0] for x in lch], [x[1] for x in lch], color = 'green')\n",
    "ax.plot([x[0] for x in uch], [x[1] for x in uch], color = 'red')\n",
    "\n",
    "# interpolated points\n",
    "ax.scatter(X, lch_interpolated, color='pink')\n",
    "ax.scatter(X, uch_interpolated, color='orange')\n",
    "\n",
    "# point estimates \n",
    "ax.scatter(X, volatilityEstimator(X))\n",
    "\n",
    "ax.set_xlabel(\"Price\")\n",
    "ax.set_ylabel(\"Estimated Volatility\")\n",
    "\n",
    "plt.show()"
   ]
  },
  {
   "cell_type": "code",
   "execution_count": 23,
   "metadata": {
    "colab": {
     "base_uri": "https://localhost:8080/",
     "height": 204
    },
    "executionInfo": {
     "elapsed": 12,
     "status": "ok",
     "timestamp": 1670463614835,
     "user": {
      "displayName": "Jessica Li",
      "userId": "07751612244557950653"
     },
     "user_tz": 300
    },
    "id": "mPupFyN6iWap",
    "outputId": "b758c206-2220-48e9-b897-881d87d01acd",
    "scrolled": true
   },
   "outputs": [
    {
     "data": {
      "text/html": [
       "<div>\n",
       "<style scoped>\n",
       "    .dataframe tbody tr th:only-of-type {\n",
       "        vertical-align: middle;\n",
       "    }\n",
       "\n",
       "    .dataframe tbody tr th {\n",
       "        vertical-align: top;\n",
       "    }\n",
       "\n",
       "    .dataframe thead th {\n",
       "        text-align: right;\n",
       "    }\n",
       "</style>\n",
       "<table border=\"1\" class=\"dataframe\">\n",
       "  <thead>\n",
       "    <tr style=\"text-align: right;\">\n",
       "      <th></th>\n",
       "      <th>price</th>\n",
       "      <th>lch</th>\n",
       "      <th>uch</th>\n",
       "      <th>log_lch</th>\n",
       "      <th>log_uch</th>\n",
       "      <th>log_price</th>\n",
       "    </tr>\n",
       "  </thead>\n",
       "  <tbody>\n",
       "    <tr>\n",
       "      <th>0</th>\n",
       "      <td>32000</td>\n",
       "      <td>13020.791141</td>\n",
       "      <td>13020.791141</td>\n",
       "      <td>9.474303</td>\n",
       "      <td>9.474303</td>\n",
       "      <td>10.373491</td>\n",
       "    </tr>\n",
       "    <tr>\n",
       "      <th>1</th>\n",
       "      <td>34000</td>\n",
       "      <td>12584.056701</td>\n",
       "      <td>16888.570536</td>\n",
       "      <td>9.440186</td>\n",
       "      <td>9.734392</td>\n",
       "      <td>10.434116</td>\n",
       "    </tr>\n",
       "    <tr>\n",
       "      <th>2</th>\n",
       "      <td>36000</td>\n",
       "      <td>12465.639507</td>\n",
       "      <td>20756.349931</td>\n",
       "      <td>9.430731</td>\n",
       "      <td>9.940607</td>\n",
       "      <td>10.491274</td>\n",
       "    </tr>\n",
       "    <tr>\n",
       "      <th>3</th>\n",
       "      <td>38000</td>\n",
       "      <td>12347.222314</td>\n",
       "      <td>24624.129326</td>\n",
       "      <td>9.421186</td>\n",
       "      <td>10.111482</td>\n",
       "      <td>10.545341</td>\n",
       "    </tr>\n",
       "    <tr>\n",
       "      <th>4</th>\n",
       "      <td>40000</td>\n",
       "      <td>12228.805120</td>\n",
       "      <td>28491.908721</td>\n",
       "      <td>9.411550</td>\n",
       "      <td>10.257375</td>\n",
       "      <td>10.596635</td>\n",
       "    </tr>\n",
       "  </tbody>\n",
       "</table>\n",
       "</div>"
      ],
      "text/plain": [
       "   price           lch           uch   log_lch    log_uch  log_price\n",
       "0  32000  13020.791141  13020.791141  9.474303   9.474303  10.373491\n",
       "1  34000  12584.056701  16888.570536  9.440186   9.734392  10.434116\n",
       "2  36000  12465.639507  20756.349931  9.430731   9.940607  10.491274\n",
       "3  38000  12347.222314  24624.129326  9.421186  10.111482  10.545341\n",
       "4  40000  12228.805120  28491.908721  9.411550  10.257375  10.596635"
      ]
     },
     "execution_count": 23,
     "metadata": {},
     "output_type": "execute_result"
    }
   ],
   "source": [
    "# transform variables for OLS\n",
    "hull = pd.concat([lch_interpolated, uch_interpolated], axis=1).reset_index().rename(columns={'index': 'price'})\n",
    "hull['log_lch'] = np.log(hull.lch)\n",
    "hull['log_uch'] = np.log(hull.uch)\n",
    "hull['log_price'] = np.log(hull.price)\n",
    "hull.head()"
   ]
  },
  {
   "cell_type": "code",
   "execution_count": 24,
   "metadata": {
    "colab": {
     "base_uri": "https://localhost:8080/"
    },
    "executionInfo": {
     "elapsed": 5,
     "status": "ok",
     "timestamp": 1670463615705,
     "user": {
      "displayName": "Jessica Li",
      "userId": "07751612244557950653"
     },
     "user_tz": 300
    },
    "id": "pOyf9tHmiWaq",
    "outputId": "a1b4da18-4f27-40b4-f99c-8111a65af0a5"
   },
   "outputs": [
    {
     "name": "stdout",
     "output_type": "stream",
     "text": [
      "Upper bound inconclusive--testing lower bound.\n",
      "Test inconclusive.\n"
     ]
    }
   ],
   "source": [
    "# Hypothesis testing\n",
    "\n",
    "#upper bound on integral\n",
    "Y1 = hull.log_lch\n",
    "X1 = hull.log_price\n",
    "X1 = sm.add_constant(X1)\n",
    "model1 = sm.OLS(Y1,X1)\n",
    "\n",
    "results1 = model1.fit()\n",
    "\n",
    "if (results1.params['log_price'] > 1 + 1.645*results1.bse['log_price']):\n",
    "    # reject the null hypothesis of \"No bubble\"\n",
    "    print(\"Test ends. There is a bubble.\")\n",
    "else: \n",
    "    print(\"Upper bound inconclusive--testing lower bound.\")\n",
    "    #lower bound on integral\n",
    "    Y2 = hull.log_uch\n",
    "    X2 = hull.log_price\n",
    "    X2 = sm.add_constant(X2)\n",
    "    model2 = sm.OLS(Y2,X2)\n",
    "\n",
    "    results2 = model2.fit()\n",
    "    \n",
    "    if (results2.params['log_price'] <= 1 - 1.645*results2.bse['log_price']):\n",
    "        # reject the null hypothesis of \"There is a bubble\"\n",
    "        print(\"Test ends. There is no bubble.\")\n",
    "    else: \n",
    "        print(\"Test inconclusive.\")"
   ]
  },
  {
   "cell_type": "markdown",
   "metadata": {
    "id": "DJZwQeICiWaq"
   },
   "source": [
    "# 2020-03-18 to 2021-06-01"
   ]
  },
  {
   "cell_type": "code",
   "execution_count": 25,
   "metadata": {
    "executionInfo": {
     "elapsed": 337,
     "status": "ok",
     "timestamp": 1670463616606,
     "user": {
      "displayName": "Jessica Li",
      "userId": "07751612244557950653"
     },
     "user_tz": 300
    },
    "id": "NBB00LYGiWaq"
   },
   "outputs": [],
   "source": [
    "start = pd.to_datetime(['2020-03-18']).astype(int)[0]//10**9 # convert to unix timestamp.\n",
    "end = pd.to_datetime(['2021-06-01']).astype(int)[0]//10**9 # convert to unix timestamp.\n",
    "url = 'https://query1.finance.yahoo.com/v7/finance/download/' + 'BTC-USD' + '?period1=' + str(start) + '&period2=' + str(end) + '&interval=1d&events=history'\n",
    "df = pd.read_csv(url)\n",
    "\n",
    "S=df.Close.tolist()"
   ]
  },
  {
   "cell_type": "code",
   "execution_count": 26,
   "metadata": {
    "colab": {
     "base_uri": "https://localhost:8080/",
     "height": 265
    },
    "executionInfo": {
     "elapsed": 210,
     "status": "ok",
     "timestamp": 1670463616991,
     "user": {
      "displayName": "Jessica Li",
      "userId": "07751612244557950653"
     },
     "user_tz": 300
    },
    "id": "zrV_Mat9iWaq",
    "outputId": "26154530-28c0-4a93-b57e-07486d3ece85"
   },
   "outputs": [
    {
     "data": {
      "image/png": "[encoded data removed]",
      "text/plain": [
       "<Figure size 432x288 with 1 Axes>"
      ]
     },
     "metadata": {
      "needs_background": "light"
     },
     "output_type": "display_data"
    }
   ],
   "source": [
    "plt.plot(pd.to_datetime(df.Date), df.Close)\n",
    "plt.show()"
   ]
  },
  {
   "cell_type": "code",
   "execution_count": 27,
   "metadata": {
    "colab": {
     "base_uri": "https://localhost:8080/"
    },
    "executionInfo": {
     "elapsed": 6,
     "status": "ok",
     "timestamp": 1670463617964,
     "user": {
      "displayName": "Jessica Li",
      "userId": "07751612244557950653"
     },
     "user_tz": 300
    },
    "id": "BlU7x6pyiWar",
    "outputId": "68804fee-1786-4a59-81c4-4c6d58c8a67b"
   },
   "outputs": [
    {
     "data": {
      "text/plain": [
       "count      441.000000\n",
       "mean     24207.931138\n",
       "std      18459.797960\n",
       "min       5238.438477\n",
       "25%       9593.896484\n",
       "50%      13031.173828\n",
       "75%      38402.222656\n",
       "max      63503.457031\n",
       "Name: Close, dtype: float64"
      ]
     },
     "execution_count": 27,
     "metadata": {},
     "output_type": "execute_result"
    }
   ],
   "source": [
    "df.Close.describe()"
   ]
  },
  {
   "cell_type": "code",
   "execution_count": 28,
   "metadata": {
    "colab": {
     "base_uri": "https://localhost:8080/"
    },
    "executionInfo": {
     "elapsed": 5,
     "status": "ok",
     "timestamp": 1670463617964,
     "user": {
      "displayName": "Jessica Li",
      "userId": "07751612244557950653"
     },
     "user_tz": 300
    },
    "id": "j1_I7WosiWar",
    "outputId": "9393131a-1d06-44ea-860a-d3f9d6d2568a"
   },
   "outputs": [
    {
     "name": "stdout",
     "output_type": "stream",
     "text": [
      "17\n"
     ]
    },
    {
     "data": {
      "text/plain": [
       "[5200,\n",
       " 8700,\n",
       " 12200,\n",
       " 15700,\n",
       " 19200,\n",
       " 22700,\n",
       " 26200,\n",
       " 29700,\n",
       " 33200,\n",
       " 36700,\n",
       " 40200,\n",
       " 43700,\n",
       " 47200,\n",
       " 50700,\n",
       " 54200,\n",
       " 57700,\n",
       " 61200]"
      ]
     },
     "execution_count": 28,
     "metadata": {},
     "output_type": "execute_result"
    }
   ],
   "source": [
    "X = list(range(5200, 63000, 3500))\n",
    "print(len(X))\n",
    "X"
   ]
  },
  {
   "cell_type": "code",
   "execution_count": 29,
   "metadata": {
    "colab": {
     "base_uri": "https://localhost:8080/",
     "height": 279
    },
    "executionInfo": {
     "elapsed": 206,
     "status": "ok",
     "timestamp": 1670463618427,
     "user": {
      "displayName": "Jessica Li",
      "userId": "07751612244557950653"
     },
     "user_tz": 300
    },
    "id": "SBHT28WLiWar",
    "outputId": "50c0252b-4e0e-4ddc-a53e-4af41db652dc"
   },
   "outputs": [
    {
     "data": {
      "image/png": "[encoded data removed]",
      "text/plain": [
       "<Figure size 432x288 with 1 Axes>"
      ]
     },
     "metadata": {
      "needs_background": "light"
     },
     "output_type": "display_data"
    }
   ],
   "source": [
    "fig,ax = plt.subplots(1)\n",
    "\n",
    "# plot the data\n",
    "ax.scatter(X, volatilityEstimator(X))\n",
    "ax.set_xlabel(\"Price\")\n",
    "ax.set_ylabel(\"Estimated Volatility\")\n",
    "plt.show()"
   ]
  },
  {
   "cell_type": "code",
   "execution_count": 30,
   "metadata": {
    "executionInfo": {
     "elapsed": 9,
     "status": "ok",
     "timestamp": 1670463618773,
     "user": {
      "displayName": "Jessica Li",
      "userId": "07751612244557950653"
     },
     "user_tz": 300
    },
    "id": "OpIgMn4iiWar"
   },
   "outputs": [],
   "source": [
    "pairs = [(X[i], volatilityEstimator(X)[i]) for i in range(len(X))]"
   ]
  },
  {
   "cell_type": "code",
   "execution_count": 31,
   "metadata": {
    "executionInfo": {
     "elapsed": 264,
     "status": "ok",
     "timestamp": 1670463619451,
     "user": {
      "displayName": "Jessica Li",
      "userId": "07751612244557950653"
     },
     "user_tz": 300
    },
    "id": "ipMCabLliWas"
   },
   "outputs": [],
   "source": [
    "# lower convex hull\n",
    "i = 0\n",
    "lch = [pairs[i]]\n",
    "while (i < len(X) -1):\n",
    "    angles = {x:theta(x, i) for x in range(len(pairs)) if x>i}\n",
    "    i = min(angles, key=angles.get)\n",
    "    lch.append(pairs[i])\n",
    "\n",
    "# upper convex hull\n",
    "i = 0\n",
    "uch = [pairs[i]]\n",
    "while (i < len(X) -1):\n",
    "    angles = {x:theta(x, i) for x in range(len(pairs)) if x>i}\n",
    "    i = max(angles, key=angles.get)\n",
    "    uch.append(pairs[i])"
   ]
  },
  {
   "cell_type": "code",
   "execution_count": 32,
   "metadata": {
    "executionInfo": {
     "elapsed": 3,
     "status": "ok",
     "timestamp": 1670463619941,
     "user": {
      "displayName": "Jessica Li",
      "userId": "07751612244557950653"
     },
     "user_tz": 300
    },
    "id": "D2vPw-KSiWas"
   },
   "outputs": [],
   "source": [
    "# interpolate the convex hulls (linear interpolation)\n",
    "lch_interpolated = pd.Series({x[0]: x[1] for x in lch}, index=X, name='lch').interpolate()\n",
    "uch_interpolated = pd.Series({x[0]: x[1] for x in uch}, index=X, name='uch').interpolate()"
   ]
  },
  {
   "cell_type": "code",
   "execution_count": 33,
   "metadata": {
    "colab": {
     "base_uri": "https://localhost:8080/",
     "height": 279
    },
    "executionInfo": {
     "elapsed": 250,
     "status": "ok",
     "timestamp": 1670463620434,
     "user": {
      "displayName": "Jessica Li",
      "userId": "07751612244557950653"
     },
     "user_tz": 300
    },
    "id": "fylszeVqiWat",
    "outputId": "cd46feac-e7f1-4319-ce5e-5aa873e219fd"
   },
   "outputs": [
    {
     "data": {
      "image/png": "[encoded data removed]",
      "text/plain": [
       "<Figure size 432x288 with 1 Axes>"
      ]
     },
     "metadata": {
      "needs_background": "light"
     },
     "output_type": "display_data"
    }
   ],
   "source": [
    "fig,ax = plt.subplots(1)\n",
    "\n",
    "# convex hulls\n",
    "ax.plot([x[0] for x in lch], [x[1] for x in lch], color = 'green')\n",
    "ax.plot([x[0] for x in uch], [x[1] for x in uch], color = 'red')\n",
    "\n",
    "# interpolated points\n",
    "ax.scatter(X, lch_interpolated, color='pink')\n",
    "ax.scatter(X, uch_interpolated, color='orange')\n",
    "\n",
    "# point estimates \n",
    "ax.scatter(X, volatilityEstimator(X))\n",
    "\n",
    "ax.set_xlabel(\"Price\")\n",
    "ax.set_ylabel(\"Estimated Volatility\")\n",
    "\n",
    "plt.show()"
   ]
  },
  {
   "cell_type": "code",
   "execution_count": 34,
   "metadata": {
    "colab": {
     "base_uri": "https://localhost:8080/",
     "height": 204
    },
    "executionInfo": {
     "elapsed": 157,
     "status": "ok",
     "timestamp": 1670463620736,
     "user": {
      "displayName": "Jessica Li",
      "userId": "07751612244557950653"
     },
     "user_tz": 300
    },
    "id": "xQ8t7zayiWat",
    "outputId": "36091d79-7e6b-4caa-9e50-56244793c330",
    "scrolled": true
   },
   "outputs": [
    {
     "data": {
      "text/html": [
       "<div>\n",
       "<style scoped>\n",
       "    .dataframe tbody tr th:only-of-type {\n",
       "        vertical-align: middle;\n",
       "    }\n",
       "\n",
       "    .dataframe tbody tr th {\n",
       "        vertical-align: top;\n",
       "    }\n",
       "\n",
       "    .dataframe thead th {\n",
       "        text-align: right;\n",
       "    }\n",
       "</style>\n",
       "<table border=\"1\" class=\"dataframe\">\n",
       "  <thead>\n",
       "    <tr style=\"text-align: right;\">\n",
       "      <th></th>\n",
       "      <th>price</th>\n",
       "      <th>lch</th>\n",
       "      <th>uch</th>\n",
       "      <th>log_lch</th>\n",
       "      <th>log_uch</th>\n",
       "      <th>log_price</th>\n",
       "    </tr>\n",
       "  </thead>\n",
       "  <tbody>\n",
       "    <tr>\n",
       "      <th>0</th>\n",
       "      <td>5200</td>\n",
       "      <td>20007.842274</td>\n",
       "      <td>20007.842274</td>\n",
       "      <td>9.903880</td>\n",
       "      <td>9.903880</td>\n",
       "      <td>8.556414</td>\n",
       "    </tr>\n",
       "    <tr>\n",
       "      <th>1</th>\n",
       "      <td>8700</td>\n",
       "      <td>3576.793948</td>\n",
       "      <td>25408.924794</td>\n",
       "      <td>8.182222</td>\n",
       "      <td>10.142856</td>\n",
       "      <td>9.071078</td>\n",
       "    </tr>\n",
       "    <tr>\n",
       "      <th>2</th>\n",
       "      <td>12200</td>\n",
       "      <td>4538.144241</td>\n",
       "      <td>30810.007314</td>\n",
       "      <td>8.420273</td>\n",
       "      <td>10.335595</td>\n",
       "      <td>9.409191</td>\n",
       "    </tr>\n",
       "    <tr>\n",
       "      <th>3</th>\n",
       "      <td>15700</td>\n",
       "      <td>5499.494533</td>\n",
       "      <td>36211.089834</td>\n",
       "      <td>8.612411</td>\n",
       "      <td>10.497121</td>\n",
       "      <td>9.661416</td>\n",
       "    </tr>\n",
       "    <tr>\n",
       "      <th>4</th>\n",
       "      <td>19200</td>\n",
       "      <td>6460.844826</td>\n",
       "      <td>41612.172354</td>\n",
       "      <td>8.773515</td>\n",
       "      <td>10.636148</td>\n",
       "      <td>9.862666</td>\n",
       "    </tr>\n",
       "  </tbody>\n",
       "</table>\n",
       "</div>"
      ],
      "text/plain": [
       "   price           lch           uch   log_lch    log_uch  log_price\n",
       "0   5200  20007.842274  20007.842274  9.903880   9.903880   8.556414\n",
       "1   8700   3576.793948  25408.924794  8.182222  10.142856   9.071078\n",
       "2  12200   4538.144241  30810.007314  8.420273  10.335595   9.409191\n",
       "3  15700   5499.494533  36211.089834  8.612411  10.497121   9.661416\n",
       "4  19200   6460.844826  41612.172354  8.773515  10.636148   9.862666"
      ]
     },
     "execution_count": 34,
     "metadata": {},
     "output_type": "execute_result"
    }
   ],
   "source": [
    "# transform variables for OLS\n",
    "hull = pd.concat([lch_interpolated, uch_interpolated], axis=1).reset_index().rename(columns={'index': 'price'})\n",
    "hull['log_lch'] = np.log(hull.lch)\n",
    "hull['log_uch'] = np.log(hull.uch)\n",
    "hull['log_price'] = np.log(hull.price)\n",
    "hull.head()"
   ]
  },
  {
   "cell_type": "code",
   "execution_count": 35,
   "metadata": {
    "colab": {
     "base_uri": "https://localhost:8080/"
    },
    "executionInfo": {
     "elapsed": 163,
     "status": "ok",
     "timestamp": 1670463621194,
     "user": {
      "displayName": "Jessica Li",
      "userId": "07751612244557950653"
     },
     "user_tz": 300
    },
    "id": "uC_8DVM_iWat",
    "outputId": "39eaf80a-176a-4385-ae29-6838f9a98c1c"
   },
   "outputs": [
    {
     "name": "stdout",
     "output_type": "stream",
     "text": [
      "Upper bound inconclusive--testing lower bound.\n",
      "Test ends. There is no bubble.\n"
     ]
    }
   ],
   "source": [
    "# Hypothesis testing\n",
    "\n",
    "#upper bound on integral\n",
    "Y1 = hull.log_lch\n",
    "X1 = hull.log_price\n",
    "X1 = sm.add_constant(X1)\n",
    "model1 = sm.OLS(Y1,X1)\n",
    "\n",
    "results1 = model1.fit()\n",
    "\n",
    "if (results1.params['log_price'] > 1 + 1.645*results1.bse['log_price']):\n",
    "    # reject the null hypothesis of \"No bubble\"\n",
    "    print(\"Test ends. There is a bubble.\")\n",
    "else: \n",
    "    print(\"Upper bound inconclusive--testing lower bound.\")\n",
    "    #lower bound on integral\n",
    "    Y2 = hull.log_uch\n",
    "    X2 = hull.log_price\n",
    "    X2 = sm.add_constant(X2)\n",
    "    model2 = sm.OLS(Y2,X2)\n",
    "\n",
    "    results2 = model2.fit()\n",
    "    \n",
    "    if (results2.params['log_price'] <= 1 - 1.645*results2.bse['log_price']):\n",
    "        # reject the null hypothesis of \"There is a bubble\"\n",
    "        print(\"Test ends. There is no bubble.\")\n",
    "    else: \n",
    "        print(\"Test inconclusive.\")"
   ]
  },
  {
   "cell_type": "markdown",
   "metadata": {
    "id": "f_TYUYEYiWau"
   },
   "source": [
    "# Testing a longer time frame: 2019 to present"
   ]
  },
  {
   "cell_type": "code",
   "execution_count": 36,
   "metadata": {
    "executionInfo": {
     "elapsed": 213,
     "status": "ok",
     "timestamp": 1670463622623,
     "user": {
      "displayName": "Jessica Li",
      "userId": "07751612244557950653"
     },
     "user_tz": 300
    },
    "id": "F_RFjy2IiWau"
   },
   "outputs": [],
   "source": [
    "start = pd.to_datetime(['2019-01-01']).astype(int)[0]//10**9 # convert to unix timestamp.\n",
    "end = pd.to_datetime(['2022-10-01']).astype(int)[0]//10**9 # convert to unix timestamp.\n",
    "url = 'https://query1.finance.yahoo.com/v7/finance/download/' + 'BTC-USD' + '?period1=' + str(start) + '&period2=' + str(end) + '&interval=1d&events=history'\n",
    "df = pd.read_csv(url)\n",
    "\n",
    "S=df.Close.tolist()"
   ]
  },
  {
   "cell_type": "code",
   "execution_count": 37,
   "metadata": {
    "colab": {
     "base_uri": "https://localhost:8080/",
     "height": 267
    },
    "executionInfo": {
     "elapsed": 201,
     "status": "ok",
     "timestamp": 1670463622991,
     "user": {
      "displayName": "Jessica Li",
      "userId": "07751612244557950653"
     },
     "user_tz": 300
    },
    "id": "la5iHkTKiWau",
    "outputId": "151d6bf7-5acb-4e20-e4d6-e9af35602857"
   },
   "outputs": [
    {
     "data": {
      "image/png": "[encoded data removed]",
      "text/plain": [
       "<Figure size 432x288 with 1 Axes>"
      ]
     },
     "metadata": {
      "needs_background": "light"
     },
     "output_type": "display_data"
    }
   ],
   "source": [
    "plt.plot(pd.to_datetime(df.Date), df.Close)\n",
    "\n",
    "plt.show()"
   ]
  },
  {
   "cell_type": "code",
   "execution_count": 38,
   "metadata": {
    "colab": {
     "base_uri": "https://localhost:8080/"
    },
    "executionInfo": {
     "elapsed": 5,
     "status": "ok",
     "timestamp": 1670463623116,
     "user": {
      "displayName": "Jessica Li",
      "userId": "07751612244557950653"
     },
     "user_tz": 300
    },
    "id": "Zun7YbVOiWav",
    "outputId": "4f1197da-22e7-43d3-b580-28e4b6803ece"
   },
   "outputs": [
    {
     "data": {
      "text/plain": [
       "count     1370.000000\n",
       "mean     23891.389202\n",
       "std      18067.330580\n",
       "min       3399.471680\n",
       "25%       8876.619629\n",
       "50%      16516.959961\n",
       "75%      39513.109375\n",
       "max      67566.828125\n",
       "Name: Close, dtype: float64"
      ]
     },
     "execution_count": 38,
     "metadata": {},
     "output_type": "execute_result"
    }
   ],
   "source": [
    "df.Close.describe()"
   ]
  },
  {
   "cell_type": "code",
   "execution_count": 39,
   "metadata": {
    "colab": {
     "base_uri": "https://localhost:8080/"
    },
    "executionInfo": {
     "elapsed": 7,
     "status": "ok",
     "timestamp": 1670463623643,
     "user": {
      "displayName": "Jessica Li",
      "userId": "07751612244557950653"
     },
     "user_tz": 300
    },
    "id": "tPAPDj0FiWav",
    "outputId": "08632f1c-40bf-45f8-d06e-3eca613811ac"
   },
   "outputs": [
    {
     "name": "stdout",
     "output_type": "stream",
     "text": [
      "16\n"
     ]
    },
    {
     "data": {
      "text/plain": [
       "[18000,\n",
       " 20900,\n",
       " 23800,\n",
       " 26700,\n",
       " 29600,\n",
       " 32500,\n",
       " 35400,\n",
       " 38300,\n",
       " 41200,\n",
       " 44100,\n",
       " 47000,\n",
       " 49900,\n",
       " 52800,\n",
       " 55700,\n",
       " 58600,\n",
       " 61500]"
      ]
     },
     "execution_count": 39,
     "metadata": {},
     "output_type": "execute_result"
    }
   ],
   "source": [
    "X = list(range(18000, 63000, 2900))\n",
    "print(len(X))\n",
    "X"
   ]
  },
  {
   "cell_type": "code",
   "execution_count": 40,
   "metadata": {
    "colab": {
     "base_uri": "https://localhost:8080/",
     "height": 281
    },
    "executionInfo": {
     "elapsed": 446,
     "status": "ok",
     "timestamp": 1670463624700,
     "user": {
      "displayName": "Jessica Li",
      "userId": "07751612244557950653"
     },
     "user_tz": 300
    },
    "id": "AW-5NTJxiWav",
    "outputId": "fa794103-e1ce-41b2-b23c-775601054999"
   },
   "outputs": [
    {
     "data": {
      "image/png": "[encoded data removed]",
      "text/plain": [
       "<Figure size 432x288 with 1 Axes>"
      ]
     },
     "metadata": {
      "needs_background": "light"
     },
     "output_type": "display_data"
    }
   ],
   "source": [
    "fig,ax = plt.subplots(1)\n",
    "\n",
    "# plot the data\n",
    "ax.scatter(X, volatilityEstimator(X))\n",
    "ax.set_xlabel(\"Price\")\n",
    "ax.set_ylabel(\"Estimated Volatility\")\n",
    "plt.show()"
   ]
  },
  {
   "cell_type": "code",
   "execution_count": 41,
   "metadata": {
    "executionInfo": {
     "elapsed": 126,
     "status": "ok",
     "timestamp": 1670463624822,
     "user": {
      "displayName": "Jessica Li",
      "userId": "07751612244557950653"
     },
     "user_tz": 300
    },
    "id": "PASAFD2aiWaw"
   },
   "outputs": [],
   "source": [
    "pairs = [(X[i], volatilityEstimator(X)[i]) for i in range(len(X))]"
   ]
  },
  {
   "cell_type": "code",
   "execution_count": 42,
   "metadata": {
    "executionInfo": {
     "elapsed": 142,
     "status": "ok",
     "timestamp": 1670463625086,
     "user": {
      "displayName": "Jessica Li",
      "userId": "07751612244557950653"
     },
     "user_tz": 300
    },
    "id": "Sads3RKNiWaw"
   },
   "outputs": [],
   "source": [
    "# lower convex hull\n",
    "i = 0\n",
    "lch = [pairs[i]]\n",
    "while (i < len(X) -1):\n",
    "    angles = {x:theta(x, i) for x in range(len(pairs)) if x>i}\n",
    "    i = min(angles, key=angles.get)\n",
    "    lch.append(pairs[i])\n",
    "\n",
    "# upper convex hull\n",
    "i = 0\n",
    "uch = [pairs[i]]\n",
    "while (i < len(X) -1):\n",
    "    angles = {x:theta(x, i) for x in range(len(pairs)) if x>i}\n",
    "    i = max(angles, key=angles.get)\n",
    "    uch.append(pairs[i])"
   ]
  },
  {
   "cell_type": "code",
   "execution_count": 43,
   "metadata": {
    "executionInfo": {
     "elapsed": 124,
     "status": "ok",
     "timestamp": 1670463625396,
     "user": {
      "displayName": "Jessica Li",
      "userId": "07751612244557950653"
     },
     "user_tz": 300
    },
    "id": "pWgrMWgtiWaw"
   },
   "outputs": [],
   "source": [
    "# interpolate the convex hulls (linear interpolation)\n",
    "lch_interpolated = pd.Series({x[0]: x[1] for x in lch}, index=X, name='lch').interpolate()\n",
    "uch_interpolated = pd.Series({x[0]: x[1] for x in uch}, index=X, name='uch').interpolate()"
   ]
  },
  {
   "cell_type": "code",
   "execution_count": 44,
   "metadata": {
    "colab": {
     "base_uri": "https://localhost:8080/",
     "height": 281
    },
    "executionInfo": {
     "elapsed": 790,
     "status": "ok",
     "timestamp": 1670463626584,
     "user": {
      "displayName": "Jessica Li",
      "userId": "07751612244557950653"
     },
     "user_tz": 300
    },
    "id": "CAsq0_PviWax",
    "outputId": "eed11d5e-9449-4229-f5c3-a0075124fb67"
   },
   "outputs": [
    {
     "data": {
      "image/png": "[encoded data removed]",
      "text/plain": [
       "<Figure size 432x288 with 1 Axes>"
      ]
     },
     "metadata": {
      "needs_background": "light"
     },
     "output_type": "display_data"
    }
   ],
   "source": [
    "fig,ax = plt.subplots(1)\n",
    "\n",
    "# convex hulls\n",
    "ax.plot([x[0] for x in lch], [x[1] for x in lch], color = 'green')\n",
    "ax.plot([x[0] for x in uch], [x[1] for x in uch], color = 'red')\n",
    "\n",
    "# interpolated points\n",
    "ax.scatter(X, lch_interpolated, color='pink')\n",
    "ax.scatter(X, uch_interpolated, color='orange')\n",
    "\n",
    "# point estimates \n",
    "ax.scatter(X, volatilityEstimator(X))\n",
    "\n",
    "ax.set_xlabel(\"Price\")\n",
    "ax.set_ylabel(\"Estimated Volatility\")\n",
    "\n",
    "plt.show()"
   ]
  },
  {
   "cell_type": "code",
   "execution_count": 45,
   "metadata": {
    "colab": {
     "base_uri": "https://localhost:8080/",
     "height": 204
    },
    "executionInfo": {
     "elapsed": 10,
     "status": "ok",
     "timestamp": 1670463626712,
     "user": {
      "displayName": "Jessica Li",
      "userId": "07751612244557950653"
     },
     "user_tz": 300
    },
    "id": "91aMDgd1iWax",
    "outputId": "dff896e5-41af-4284-f6f7-1bfb142688be",
    "scrolled": true
   },
   "outputs": [
    {
     "data": {
      "text/html": [
       "<div>\n",
       "<style scoped>\n",
       "    .dataframe tbody tr th:only-of-type {\n",
       "        vertical-align: middle;\n",
       "    }\n",
       "\n",
       "    .dataframe tbody tr th {\n",
       "        vertical-align: top;\n",
       "    }\n",
       "\n",
       "    .dataframe thead th {\n",
       "        text-align: right;\n",
       "    }\n",
       "</style>\n",
       "<table border=\"1\" class=\"dataframe\">\n",
       "  <thead>\n",
       "    <tr style=\"text-align: right;\">\n",
       "      <th></th>\n",
       "      <th>price</th>\n",
       "      <th>lch</th>\n",
       "      <th>uch</th>\n",
       "      <th>log_lch</th>\n",
       "      <th>log_uch</th>\n",
       "      <th>log_price</th>\n",
       "    </tr>\n",
       "  </thead>\n",
       "  <tbody>\n",
       "    <tr>\n",
       "      <th>0</th>\n",
       "      <td>18000</td>\n",
       "      <td>23945.750615</td>\n",
       "      <td>23945.750615</td>\n",
       "      <td>10.083546</td>\n",
       "      <td>10.083546</td>\n",
       "      <td>9.798127</td>\n",
       "    </tr>\n",
       "    <tr>\n",
       "      <th>1</th>\n",
       "      <td>20900</td>\n",
       "      <td>20016.373077</td>\n",
       "      <td>42883.401180</td>\n",
       "      <td>9.904306</td>\n",
       "      <td>10.666240</td>\n",
       "      <td>9.947504</td>\n",
       "    </tr>\n",
       "    <tr>\n",
       "      <th>2</th>\n",
       "      <td>23800</td>\n",
       "      <td>16086.995538</td>\n",
       "      <td>61821.051744</td>\n",
       "      <td>9.685766</td>\n",
       "      <td>11.031999</td>\n",
       "      <td>10.077441</td>\n",
       "    </tr>\n",
       "    <tr>\n",
       "      <th>3</th>\n",
       "      <td>26700</td>\n",
       "      <td>18101.957364</td>\n",
       "      <td>80758.702309</td>\n",
       "      <td>9.803775</td>\n",
       "      <td>11.299221</td>\n",
       "      <td>10.192419</td>\n",
       "    </tr>\n",
       "    <tr>\n",
       "      <th>4</th>\n",
       "      <td>29600</td>\n",
       "      <td>20116.919189</td>\n",
       "      <td>89000.993949</td>\n",
       "      <td>9.909316</td>\n",
       "      <td>11.396403</td>\n",
       "      <td>10.295530</td>\n",
       "    </tr>\n",
       "  </tbody>\n",
       "</table>\n",
       "</div>"
      ],
      "text/plain": [
       "   price           lch           uch    log_lch    log_uch  log_price\n",
       "0  18000  23945.750615  23945.750615  10.083546  10.083546   9.798127\n",
       "1  20900  20016.373077  42883.401180   9.904306  10.666240   9.947504\n",
       "2  23800  16086.995538  61821.051744   9.685766  11.031999  10.077441\n",
       "3  26700  18101.957364  80758.702309   9.803775  11.299221  10.192419\n",
       "4  29600  20116.919189  89000.993949   9.909316  11.396403  10.295530"
      ]
     },
     "execution_count": 45,
     "metadata": {},
     "output_type": "execute_result"
    }
   ],
   "source": [
    "# transform variables for OLS\n",
    "hull = pd.concat([lch_interpolated, uch_interpolated], axis=1).reset_index().rename(columns={'index': 'price'})\n",
    "hull['log_lch'] = np.log(hull.lch)\n",
    "hull['log_uch'] = np.log(hull.uch)\n",
    "hull['log_price'] = np.log(hull.price)\n",
    "hull.head()"
   ]
  },
  {
   "cell_type": "code",
   "execution_count": 46,
   "metadata": {
    "colab": {
     "base_uri": "https://localhost:8080/"
    },
    "executionInfo": {
     "elapsed": 9,
     "status": "ok",
     "timestamp": 1670463626712,
     "user": {
      "displayName": "Jessica Li",
      "userId": "07751612244557950653"
     },
     "user_tz": 300
    },
    "id": "443K27QViWax",
    "outputId": "b0a42df1-95d2-4f57-f741-f2e2f187d135"
   },
   "outputs": [
    {
     "name": "stdout",
     "output_type": "stream",
     "text": [
      "Upper bound inconclusive--testing lower bound.\n",
      "Test inconclusive.\n"
     ]
    }
   ],
   "source": [
    "# Hypothesis testing\n",
    "\n",
    "#upper bound on integral\n",
    "Y1 = hull.log_lch\n",
    "X1 = hull.log_price\n",
    "X1 = sm.add_constant(X1)\n",
    "model1 = sm.OLS(Y1,X1)\n",
    "\n",
    "results1 = model1.fit()\n",
    "\n",
    "if (results1.params['log_price'] > 1 + 1.645*results1.bse['log_price']):\n",
    "    # reject the null hypothesis of \"No bubble\"\n",
    "    print(\"Test ends. There is a bubble.\")\n",
    "else: \n",
    "    print(\"Upper bound inconclusive--testing lower bound.\")\n",
    "    #lower bound on integral\n",
    "    Y2 = hull.log_uch\n",
    "    X2 = hull.log_price\n",
    "    X2 = sm.add_constant(X2)\n",
    "    model2 = sm.OLS(Y2,X2)\n",
    "\n",
    "    results2 = model2.fit()\n",
    "    \n",
    "    if (results2.params['log_price'] <= 1 - 1.645*results2.bse['log_price']):\n",
    "        # reject the null hypothesis of \"There is a bubble\"\n",
    "        print(\"Test ends. There is no bubble.\")\n",
    "    else: \n",
    "        print(\"Test inconclusive.\")"
   ]
  }
 ],
 "metadata": {
  "colab": {
   "collapsed_sections": [
    "DTQ-Oe2diWan",
    "DJZwQeICiWaq",
    "f_TYUYEYiWau"
   ],
   "provenance": [
    {
     "file_id": "1QpV6ozGY4Y7CUTm66gT0I_VUEfCmTRNY",
     "timestamp": 1670463496165
    }
   ]
  },
  "kernelspec": {
   "display_name": "Python 3 (ipykernel)",
   "language": "python",
   "name": "python3"
  },
  "language_info": {
   "codemirror_mode": {
    "name": "ipython",
    "version": 3
   },
   "file_extension": ".py",
   "mimetype": "text/x-python",
   "name": "python",
   "nbconvert_exporter": "python",
   "pygments_lexer": "ipython3",
   "version": "3.9.7"
  }
 },
 "nbformat": 4,
 "nbformat_minor": 1
}
